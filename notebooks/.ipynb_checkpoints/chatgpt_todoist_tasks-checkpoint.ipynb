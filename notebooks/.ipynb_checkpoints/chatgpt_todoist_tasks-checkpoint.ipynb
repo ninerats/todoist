{
 "cells": [
  {
   "cell_type": "code",
   "execution_count": null,
   "id": "f4ec8823-1d43-4d0a-8f07-5e2c159a3f49",
   "metadata": {},
   "outputs": [],
   "source": [
    "# Todoist API Jupyter Notebook\n",
    "Set up and interact with your Todoist tasks."
   ]
  },
  {
   "cell_type": "code",
   "execution_count": null,
   "id": "a565a708-13a8-4e38-a217-540f1d789f04",
   "metadata": {},
   "outputs": [],
   "source": [
    "from todoist_api_python.api import TodoistAPI\n",
    "\n",
    "# Replace with your Todoist API token\n",
    "TODOIST_API_TOKEN = \"your_api_token_here\"\n",
    "\n",
    "api = TodoistAPI(TODOIST_API_TOKEN)\n",
    "print(\"✅ API initialized\")\n"
   ]
  },
  {
   "cell_type": "code",
   "execution_count": null,
   "id": "2d896cf9",
   "metadata": {},
   "outputs": [],
   "source": [
    "# List all projects\n",
    "projects = api.get_projects()\n",
    "for p in projects:\n",
    "    print(f\"{p.name} → {p.id}\")\n"
   ]
  },
  {
   "cell_type": "code",
   "execution_count": null,
   "id": "11e12160",
   "metadata": {},
   "outputs": [],
   "source": [
    "# Create a new task\n",
    "project_id = \"PASTE_YOUR_PROJECT_ID_HERE\"\n",
    "\n",
    "task = api.add_task(\n",
    "    content=\"📌 Follow up on scanned doc\",\n",
    "    project_id=project_id\n",
    ")\n",
    "\n",
    "print(f\"✅ Created task: {task.content}\")\n"
   ]
  },
  {
   "cell_type": "code",
   "execution_count": null,
   "id": "065e55ca",
   "metadata": {},
   "outputs": [],
   "source": [
    "# Add a comment with a local file link\n",
    "file_path = \"C:/Path/To/Your/File.pdf\"\n",
    "file_url = f\"file:///{file_path.replace(' ', '%20')}\"\n",
    "\n",
    "api.add_comment(\n",
    "    task_id=task.id,\n",
    "    content=f\"[Open file]({file_url})\"\n",
    ")\n",
    "print(\"✅ Added comment with file link\")\n"
   ]
  },
  {
   "cell_type": "code",
   "execution_count": null,
   "id": "6fdf80d5-5783-4e11-bbf2-e1ce2ed23eb4",
   "metadata": {},
   "outputs": [],
   "source": []
  }
 ],
 "metadata": {
  "kernelspec": {
   "display_name": "Python 3 (ipykernel)",
   "language": "python",
   "name": "python3"
  },
  "language_info": {
   "codemirror_mode": {
    "name": "ipython",
    "version": 3
   },
   "file_extension": ".py",
   "mimetype": "text/x-python",
   "name": "python",
   "nbconvert_exporter": "python",
   "pygments_lexer": "ipython3",
   "version": "3.12.10"
  }
 },
 "nbformat": 4,
 "nbformat_minor": 5
}

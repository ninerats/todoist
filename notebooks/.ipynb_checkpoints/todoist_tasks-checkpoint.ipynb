{
 "cells": [
  {
   "cell_type": "code",
   "execution_count": null,
   "id": "ea6486e5-c3b3-421e-9703-af57d1fc32b6",
   "metadata": {},
   "outputs": [],
   "source": [
    "from todoist_api_python.api import TodoistAPI\n",
    "\n",
    "# Replace with your personal API token\n",
    "TODOIST_API_TOKEN = \"2069791e69e4e6ec96b6a5e2bb71465db69b34fb\"\n",
    "\n",
    "api = TodoistAPI(TODOIST_API_TOKEN)\n"
   ]
  },
  {
   "cell_type": "code",
   "execution_count": null,
   "id": "30017bba-0cf9-409c-85cd-5fa208d11f6a",
   "metadata": {},
   "outputs": [],
   "source": [
    "projects = api.get_projects()\n",
    "for p in projects:\n",
    "    print(f\"{p.name} → {p.id}\")"
   ]
  }
 ],
 "metadata": {
  "kernelspec": {
   "display_name": "Python 3 (ipykernel)",
   "language": "python",
   "name": "python3"
  },
  "language_info": {
   "codemirror_mode": {
    "name": "ipython",
    "version": 3
   },
   "file_extension": ".py",
   "mimetype": "text/x-python",
   "name": "python",
   "nbconvert_exporter": "python",
   "pygments_lexer": "ipython3",
   "version": "3.12.10"
  }
 },
 "nbformat": 4,
 "nbformat_minor": 5
}

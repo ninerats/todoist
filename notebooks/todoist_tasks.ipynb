{
 "cells": [
  {
   "cell_type": "code",
   "execution_count": 53,
   "id": "bd67155a-3b5f-437b-b579-62436b177d7b",
   "metadata": {},
   "outputs": [],
   "source": [
    "import os\n",
    "import sys\n",
    "\n",
    "lib_dir = os.path.join(os.environ[\"DEV_HOME\"], \"python/lib\")\n",
    "sys.path.append(lib_dir)"
   ]
  },
  {
   "cell_type": "code",
   "execution_count": 54,
   "id": "02896de0-ebb3-4217-a83b-5559bc84ca74",
   "metadata": {},
   "outputs": [
    {
     "ename": "ModuleNotFoundError",
     "evalue": "No module named 'utils'",
     "output_type": "error",
     "traceback": [
      "\u001b[31m---------------------------------------------------------------------------\u001b[39m",
      "\u001b[31mModuleNotFoundError\u001b[39m                       Traceback (most recent call last)",
      "\u001b[36mCell\u001b[39m\u001b[36m \u001b[39m\u001b[32mIn[54]\u001b[39m\u001b[32m, line 1\u001b[39m\n\u001b[32m----> \u001b[39m\u001b[32m1\u001b[39m \u001b[38;5;28;01mfrom\u001b[39;00m\u001b[38;5;250m \u001b[39m\u001b[34;01mutils\u001b[39;00m\u001b[38;5;250m \u001b[39m\u001b[38;5;28;01mimport\u001b[39;00m inspect_fields\n",
      "\u001b[31mModuleNotFoundError\u001b[39m: No module named 'utils'"
     ]
    }
   ],
   "source": [
    "from utils import inspect_fields"
   ]
  },
  {
   "cell_type": "code",
   "execution_count": 2,
   "id": "907a2e6c-a238-434b-90db-fe54c97633d6",
   "metadata": {},
   "outputs": [],
   "source": [
    "from todoist_api_python.api import TodoistAPI\n",
    "\n",
    "# Replace with your personal API token\n",
    "TODOIST_API_TOKEN = \"2069791e69e4e6ec96b6a5e2bb71465db69b34fb\"\n",
    "\n",
    "api = TodoistAPI(TODOIST_API_TOKEN)\n"
   ]
  },
  {
   "cell_type": "code",
   "execution_count": 31,
   "id": "30017bba-0cf9-409c-85cd-5fa208d11f6a",
   "metadata": {},
   "outputs": [
    {
     "name": "stdout",
     "output_type": "stream",
     "text": [
      "Inbox → 6VWJwxXHgjPWMVQP\n",
      "Home 🏡 → 6VWJx2Fg4p25V3FP\n",
      "Life Admin → 6VWM3frp978CJ2Cc\n",
      "Fun → 6c7FMpVcQh4W8f5G\n",
      "Health → 6VWM3mF3XmhQhWpP\n"
     ]
    }
   ],
   "source": [
    "pag = api.get_projects() # get paginator\n",
    "projects = list(pag)[0] # get list       \n",
    "for p in projects:\n",
    "    print(f\"{p.name} → {p.id}\")"
   ]
  },
  {
   "cell_type": "code",
   "execution_count": 55,
   "id": "3afbdf66-d534-4ea4-aeb2-ed0ac68a11e4",
   "metadata": {
    "scrolled": true
   },
   "outputs": [
    {
     "name": "stdout",
     "output_type": "stream",
     "text": [
      "The Zen of Python, by Tim Peters\n",
      "\n",
      "Beautiful is better than ugly.\n",
      "Explicit is better than implicit.\n",
      "Simple is better than complex.\n",
      "Complex is better than complicated.\n",
      "Flat is better than nested.\n",
      "Sparse is better than dense.\n",
      "Readability counts.\n",
      "Special cases aren't special enough to break the rules.\n",
      "Although practicality beats purity.\n",
      "Errors should never pass silently.\n",
      "Unless explicitly silenced.\n",
      "In the face of ambiguity, refuse the temptation to guess.\n",
      "There should be one-- and preferably only one --obvious way to do it.\n",
      "Although that way may not be obvious at first unless you're Dutch.\n",
      "Now is better than never.\n",
      "Although never is often better than *right* now.\n",
      "If the implementation is hard to explain, it's a bad idea.\n",
      "If the implementation is easy to explain, it may be a good idea.\n",
      "Namespaces are one honking great idea -- let's do more of those!\n"
     ]
    }
   ],
   "source": [
    "import this\n",
    "\n"
   ]
  },
  {
   "cell_type": "code",
   "execution_count": 51,
   "id": "b82c4b83-7552-4a9e-9a27-41149794fe55",
   "metadata": {},
   "outputs": [
    {
     "name": "stdout",
     "output_type": "stream",
     "text": [
      "Type of first item: <class 'list'>\n",
      "⚠️ paginator yields lists (pages)\n",
      "Sample items in first page: [Project(id='6VWJwxXHgjPWMVQP', name='Inbox', description='', order=0, color='charcoal', is_collapsed=False, is_shared=False, is_favorite=False, is_archived=False, can_assign_tasks=False, view_style='list', created_at=datetime.datetime(2024, 6, 17, 18, 16, 32, 279680, tzinfo=zoneinfo.ZoneInfo(key='UTC')), updated_at=datetime.datetime(2024, 6, 17, 18, 16, 32, 279680, tzinfo=zoneinfo.ZoneInfo(key='UTC')), parent_id=None, is_inbox_project=True, workspace_id=None, folder_id=None), Project(id='6VWJx2Fg4p25V3FP', name='Home 🏡', description='', order=1, color='charcoal', is_collapsed=False, is_shared=False, is_favorite=False, is_archived=False, can_assign_tasks=False, view_style='list', created_at=datetime.datetime(2024, 6, 17, 18, 16, 40, 93680, tzinfo=zoneinfo.ZoneInfo(key='UTC')), updated_at=datetime.datetime(2024, 6, 17, 18, 16, 40, 93680, tzinfo=zoneinfo.ZoneInfo(key='UTC')), parent_id=None, is_inbox_project=False, workspace_id=None, folder_id=None)]\n"
     ]
    }
   ],
   "source": [
    "pag = api.get_projects()\n",
    "first_item = list(pag)[0]\n",
    "print(\"Type of first item:\", type(first_item))\n",
    "\n",
    "if isinstance(first_item, list):\n",
    "    print(\"⚠️ paginator yields lists (pages)\")\n",
    "    print(\"Sample items in first page:\", first_item[:2])\n",
    "else:\n",
    "    print(\"✅ paginator yields individual projects\")\n"
   ]
  },
  {
   "cell_type": "code",
   "execution_count": null,
   "id": "703f835f-7515-4d00-8af2-6258701a43b4",
   "metadata": {},
   "outputs": [],
   "source": []
  }
 ],
 "metadata": {
  "kernelspec": {
   "display_name": "Python 3 (ipykernel)",
   "language": "python",
   "name": "python3"
  },
  "language_info": {
   "codemirror_mode": {
    "name": "ipython",
    "version": 3
   },
   "file_extension": ".py",
   "mimetype": "text/x-python",
   "name": "python",
   "nbconvert_exporter": "python",
   "pygments_lexer": "ipython3",
   "version": "3.12.10"
  }
 },
 "nbformat": 4,
 "nbformat_minor": 5
}
